{
 "cells": [
  {
   "cell_type": "markdown",
   "id": "99e46f74-52e4-4c04-8784-a86b223a2e0e",
   "metadata": {},
   "source": [
    "# Neural Network practise"
   ]
  },
  {
   "cell_type": "code",
   "execution_count": 7,
   "id": "289fb282-fe43-49db-aca8-b90898d5742f",
   "metadata": {},
   "outputs": [
    {
     "name": "stdout",
     "output_type": "stream",
     "text": [
      "              precision    recall  f1-score   support\n",
      "\n",
      "           1       0.97      0.98      0.97       500\n",
      "           2       0.98      0.97      0.97       500\n",
      "           3       0.98      0.96      0.97       500\n",
      "           4       0.97      0.97      0.97       500\n",
      "           5       0.98      0.98      0.98       500\n",
      "           6       0.97      0.99      0.98       500\n",
      "           7       0.98      0.97      0.97       500\n",
      "           8       0.98      0.98      0.98       500\n",
      "           9       0.97      0.96      0.96       500\n",
      "          10       0.98      0.99      0.99       500\n",
      "\n",
      "    accuracy                           0.98      5000\n",
      "   macro avg       0.98      0.98      0.98      5000\n",
      "weighted avg       0.98      0.98      0.98      5000\n",
      "\n"
     ]
    }
   ],
   "source": [
    "import matplotlib.pyplot as plt\n",
    "import numpy as np\n",
    "import scipy.io as sio\n",
    "import matplotlib\n",
    "import scipy.optimize as opt\n",
    "from sklearn.metrics import classification_report\n",
    "\n",
    "def load_path(path, transpose=True):\n",
    "    data = sio.loadmat(path)\n",
    "    y = data.get('y')\n",
    "    y = y.reshape(y.shape[0])\n",
    "\n",
    "    X = data.get('X')\n",
    "\n",
    "    if transpose:\n",
    "        X = np.array([im.reshape((20, 20)).T for im in X])\n",
    "\n",
    "    return X, y\n",
    "\n",
    "def sigmoid(z):\n",
    "    return 1 / ( 1 + np.exp(-z))\n",
    "\n",
    "def load_weight(path):\n",
    "    data = sio.loadmat(path)\n",
    "    return data['Theta1'], data['Theta2']\n",
    "\n",
    "theta1, theta2 = load_weight('ex3weights.mat')\n",
    "theta1.shape, theta2.shape\n",
    "\n",
    "X, y = load_path('ex3data1.mat', transpose=False)\n",
    "\n",
    "X = np.insert(X, 0, values = np.ones(X.shape[0]), axis=1)\n",
    "\n",
    "X.shape, y.shape\n",
    "\n",
    "# 前馈预测\n",
    "\n",
    "a1 = X\n",
    "z2 = a1 @ theta1.T # (5000, 401) @ (25,401).T = (5000, 25)\n",
    "z2.shape\n",
    "\n",
    "z2 = np.insert(z2, 0, values=np.ones(z2.shape[0]), axis=1)\n",
    "\n",
    "a2 = sigmoid(z2)\n",
    "a2.shape\n",
    "\n",
    "z3 = a2 @ theta2.T\n",
    "z3.shape\n",
    "\n",
    "a3 = sigmoid(z3)\n",
    "a3\n",
    "\n",
    "y_pred = np.argmax(a3, axis=1) + 1\n",
    "y_pred.shape\n",
    "\n",
    "print(classification_report(y, y_pred))"
   ]
  },
  {
   "cell_type": "code",
   "execution_count": null,
   "id": "bd972244-1419-4a6e-ba69-1ec77cc5a448",
   "metadata": {},
   "outputs": [],
   "source": []
  }
 ],
 "metadata": {
  "kernelspec": {
   "display_name": "Python 3 (ipykernel)",
   "language": "python",
   "name": "python3"
  },
  "language_info": {
   "codemirror_mode": {
    "name": "ipython",
    "version": 3
   },
   "file_extension": ".py",
   "mimetype": "text/x-python",
   "name": "python",
   "nbconvert_exporter": "python",
   "pygments_lexer": "ipython3",
   "version": "3.13.5"
  }
 },
 "nbformat": 4,
 "nbformat_minor": 5
}
